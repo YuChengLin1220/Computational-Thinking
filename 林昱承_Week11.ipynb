{
  "nbformat": 4,
  "nbformat_minor": 0,
  "metadata": {
    "colab": {
      "name": "林昱承-Week11.ipynb",
      "provenance": [],
      "authorship_tag": "ABX9TyOgirODY4Vt9ltuT5Hf9NxL",
      "include_colab_link": true
    },
    "kernelspec": {
      "name": "python3",
      "display_name": "Python 3"
    }
  },
  "cells": [
    {
      "cell_type": "markdown",
      "metadata": {
        "id": "view-in-github",
        "colab_type": "text"
      },
      "source": [
        "<a href=\"https://colab.research.google.com/github/YuChengLin1220/Computational-Thinking/blob/master/%E6%9E%97%E6%98%B1%E6%89%BF_Week11.ipynb\" target=\"_parent\"><img src=\"https://colab.research.google.com/assets/colab-badge.svg\" alt=\"Open In Colab\"/></a>"
      ]
    },
    {
      "cell_type": "markdown",
      "metadata": {
        "id": "Kts1cOIBqnF-"
      },
      "source": [
        "#習題解答:報告分組"
      ]
    },
    {
      "cell_type": "code",
      "metadata": {
        "colab": {
          "base_uri": "https://localhost:8080/"
        },
        "id": "3fVIdm6jn7TU",
        "outputId": "b654652c-8b00-45b5-8f72-e4969554400c"
      },
      "source": [
        "# 方法(一):商數\n",
        "## Input\n",
        "number = input(\"Enter your seat number?\" )\n",
        "number = int(number)\n",
        "## Process\n",
        "group = (number - 1) // 5 \n",
        "## Output\n",
        "print(\"Groups is\", group)"
      ],
      "execution_count": 8,
      "outputs": [
        {
          "output_type": "stream",
          "text": [
            "Enter your seat number?19\n",
            "Groups is 4\n"
          ],
          "name": "stdout"
        }
      ]
    },
    {
      "cell_type": "code",
      "metadata": {
        "colab": {
          "base_uri": "https://localhost:8080/"
        },
        "id": "uRUOf2CYwhAG",
        "outputId": "3f2be739-06ca-4eac-918f-9576ac7df3d6"
      },
      "source": [
        "number = input(\"Enter your seat number?\" )\n",
        "number = int(number)\n",
        "group = (number - 1) // 5 + 1\n",
        "print(\"Groups is\", group)"
      ],
      "execution_count": 10,
      "outputs": [
        {
          "output_type": "stream",
          "text": [
            "Enter your seat number?19\n",
            "Groups is 4\n"
          ],
          "name": "stdout"
        }
      ]
    }
  ]
}